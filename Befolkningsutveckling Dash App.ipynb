{
 "cells": [
  {
   "cell_type": "markdown",
   "id": "a726178a-aad6-48ee-9581-2f2831251970",
   "metadata": {},
   "source": [
    "# Befolkningsutveckling i Stockholms län"
   ]
  },
  {
   "cell_type": "markdown",
   "id": "8f9cd5a8-77b9-4764-b184-b8fe6524f868",
   "metadata": {},
   "source": [
    "## Inledning\n",
    "Detta skript hämtar befolkningsstatistik med API från SCB för Stockholms läns kommuner och visualiserar detta i en interaktiv Dash app."
   ]
  },
  {
   "cell_type": "markdown",
   "id": "00691992-fd8d-4e53-a7e4-2c40ad83659c",
   "metadata": {
    "tags": []
   },
   "source": [
    "## Hämta data från SCB\n",
    "För att hämta statistik från SCB med API används biblioteket Pyscbwrapper.\n",
    "\n",
    "Läs mer om Pyscbwrapper här: https://github.com/kirajcg/pyscbwrapper/blob/master/pyscbwrapper.ipynb"
   ]
  },
  {
   "cell_type": "code",
   "execution_count": 1,
   "id": "f4055565-9a26-4ebd-a3c2-106c36206629",
   "metadata": {
    "jupyter": {
     "source_hidden": true
    },
    "tags": []
   },
   "outputs": [],
   "source": [
    "#Importera bibliotek\n",
    "from pyscbwrapper import SCB\n",
    "import pandas as pd"
   ]
  },
  {
   "cell_type": "code",
   "execution_count": 2,
   "id": "9dca6653-f787-4625-bf66-700d9b1fed90",
   "metadata": {
    "jupyter": {
     "source_hidden": true
    },
    "tags": []
   },
   "outputs": [],
   "source": [
    "#Initiera SCB\n",
    "scb = SCB('sv')\n",
    "\n",
    "#Välj tabell\n",
    "scb.go_down('BE', 'BE0101', 'BE0101G', 'ManadBefStatRegion')"
   ]
  },
  {
   "cell_type": "code",
   "execution_count": 3,
   "id": "27f724ef-8b6e-4956-a0ba-8d5aeb8ad965",
   "metadata": {
    "jupyter": {
     "source_hidden": true
    },
    "tags": []
   },
   "outputs": [
    {
     "name": "stdout",
     "output_type": "stream",
     "text": [
      "{'key': ['01', '100', '1+2', '2000M01'], 'values': ['1804587']}\n",
      "{'key': ['01', '100', '1+2', '2000M02'], 'values': ['1806089']}\n",
      "{'key': ['01', '100', '1+2', '2000M03'], 'values': ['1808101']}\n"
     ]
    }
   ],
   "source": [
    "#Ladda hem data\n",
    "\n",
    "# Skapa en fråga att skicka till databasen\n",
    "scb.set_query(region = ['Stockholms län',\n",
    "                        'Upplands Väsby',\n",
    "                        'Vallentuna',\n",
    "                        'Österåker',\n",
    "                        'Värmdö',\n",
    "                        'Järfälla',\n",
    "                        'Ekerö',\n",
    "                        'Huddinge',\n",
    "                        'Botkyrka',\n",
    "                        'Salem',\n",
    "                        'Haninge',\n",
    "                        'Tyresö',\n",
    "                        'Upplands-Bro',\n",
    "                        'Nykvarn',\n",
    "                        'Täby',\n",
    "                        'Danderyd',\n",
    "                        'Sollentuna',\n",
    "                        'Stockholm',\n",
    "                        'Södertälje',\n",
    "                        'Nacka',\n",
    "                        'Sundbyberg',\n",
    "                        'Solna',\n",
    "                        'Lidingö',\n",
    "                        'Vaxholm',\n",
    "                        'Norrtälje',\n",
    "                        'Sigtuna',\n",
    "                        'Nynäshamn'],\n",
    "              förändringar = ['folkmängd'],\n",
    "              kön = ['totalt'])\n",
    "\n",
    "# Inspektera fråga\n",
    "scb.get_query()\n",
    "\n",
    "# Hämta metadata och extrahera data\n",
    "scb_metadata = scb.get_data()\n",
    "scb_data = scb_metadata['data']\n",
    "\n",
    "# Inspektera endast de främsta raderna av data i JSON format\n",
    "num_rows = 3\n",
    "\n",
    "# Inspektera de tre första raderna\n",
    "for row in scb_data[:num_rows]:\n",
    "    print(row)"
   ]
  },
  {
   "cell_type": "code",
   "execution_count": 4,
   "id": "ded460ea-ac3e-4768-805d-f68dcfc18166",
   "metadata": {
    "jupyter": {
     "source_hidden": true
    },
    "tags": []
   },
   "outputs": [],
   "source": [
    "# Konvertera en lista av dictionaries till en dictionary med dictionaries\n",
    "scb_dict = {tuple(d['key']): d['values'][0] for d in scb_data}\n",
    "\n",
    "# Skapa en DataFrame av dictionary\n",
    "df = pd.DataFrame.from_dict(scb_dict, orient='index', columns=['value'])\n",
    "\n",
    "# Sätt ett namn för index\n",
    "df.index.set_names('keys', inplace=True)\n",
    "df.reset_index(inplace=True)\n",
    "df[['region', 'förändringar', 'kön', 'månad']] = df['keys'].apply(pd.Series)\n",
    "df.drop('keys', axis=1, inplace=True)\n",
    "df.rename(columns={'value':'befolkning'}, inplace=True)"
   ]
  },
  {
   "cell_type": "code",
   "execution_count": 5,
   "id": "7806363a-241e-4145-9109-1364809e27ec",
   "metadata": {
    "jupyter": {
     "source_hidden": true
    },
    "tags": []
   },
   "outputs": [
    {
     "data": {
      "text/html": [
       "<div>\n",
       "<style scoped>\n",
       "    .dataframe tbody tr th:only-of-type {\n",
       "        vertical-align: middle;\n",
       "    }\n",
       "\n",
       "    .dataframe tbody tr th {\n",
       "        vertical-align: top;\n",
       "    }\n",
       "\n",
       "    .dataframe thead th {\n",
       "        text-align: right;\n",
       "    }\n",
       "</style>\n",
       "<table border=\"1\" class=\"dataframe\">\n",
       "  <thead>\n",
       "    <tr style=\"text-align: right;\">\n",
       "      <th></th>\n",
       "      <th>befolkning</th>\n",
       "      <th>månad</th>\n",
       "      <th>kommun</th>\n",
       "    </tr>\n",
       "  </thead>\n",
       "  <tbody>\n",
       "    <tr>\n",
       "      <th>180</th>\n",
       "      <td>2200237</td>\n",
       "      <td>2015-01-01</td>\n",
       "      <td>Stockholms län</td>\n",
       "    </tr>\n",
       "    <tr>\n",
       "      <th>181</th>\n",
       "      <td>2202445</td>\n",
       "      <td>2015-02-01</td>\n",
       "      <td>Stockholms län</td>\n",
       "    </tr>\n",
       "    <tr>\n",
       "      <th>182</th>\n",
       "      <td>2205105</td>\n",
       "      <td>2015-03-01</td>\n",
       "      <td>Stockholms län</td>\n",
       "    </tr>\n",
       "    <tr>\n",
       "      <th>183</th>\n",
       "      <td>2207908</td>\n",
       "      <td>2015-04-01</td>\n",
       "      <td>Stockholms län</td>\n",
       "    </tr>\n",
       "    <tr>\n",
       "      <th>184</th>\n",
       "      <td>2210572</td>\n",
       "      <td>2015-05-01</td>\n",
       "      <td>Stockholms län</td>\n",
       "    </tr>\n",
       "  </tbody>\n",
       "</table>\n",
       "</div>"
      ],
      "text/plain": [
       "     befolkning      månad          kommun\n",
       "180     2200237 2015-01-01  Stockholms län\n",
       "181     2202445 2015-02-01  Stockholms län\n",
       "182     2205105 2015-03-01  Stockholms län\n",
       "183     2207908 2015-04-01  Stockholms län\n",
       "184     2210572 2015-05-01  Stockholms län"
      ]
     },
     "execution_count": 5,
     "metadata": {},
     "output_type": "execute_result"
    }
   ],
   "source": [
    "#Lägg till kommunnamn som kolumn\n",
    "\n",
    "# Definiera mappning\n",
    "kommun_mapping = {\n",
    "    '01': 'Stockholms län',\n",
    "    '0114': 'Upplands Väsby',\n",
    "    '0115': 'Vallentuna',\n",
    "    '0117': 'Österåker',\n",
    "    '0120': 'Värmdö',\n",
    "    '0123': 'Järfälla',\n",
    "    '0125': 'Ekerö',\n",
    "    '0126': 'Huddinge',\n",
    "    '0127': 'Botkyrka',\n",
    "    '0128': 'Salem',\n",
    "    '0136': 'Haninge',\n",
    "    '0138': 'Tyresö',\n",
    "    '0139': 'Upplands-Bro',\n",
    "    '0140': 'Nykvarn',\n",
    "    '0160': 'Täby',\n",
    "    '0162': 'Danderyd',\n",
    "    '0163': 'Sollentuna',\n",
    "    '0180': 'Stockholm',\n",
    "    '0181': 'Södertälje',\n",
    "    '0182': 'Nacka',\n",
    "    '0183': 'Sundbyberg',\n",
    "    '0184': 'Solna',\n",
    "    '0186': 'Lidingö',\n",
    "    '0187': 'Vaxholm',\n",
    "    '0188': 'Norrtälje',\n",
    "    '0191': 'Sigtuna',\n",
    "    '0192': 'Nynäshamn'\n",
    "}\n",
    "\n",
    "# Skapa 'kommun' variabel baserad på 'region'\n",
    "df['kommun'] = df['region'].str[:4].map(kommun_mapping)\n",
    "df = df[df['förändringar'] == '100']\n",
    "df.drop(['kön', 'förändringar', 'region'], axis=1, inplace=True)\n",
    "\n",
    "#Transformera 'befolkning' till integer\n",
    "df['befolkning'] = df['befolkning'].astype(int)\n",
    "\n",
    "#Transformera 'månad' till datum\n",
    "df['månad'] = df['månad'].str.replace(\"M\", \"-\")\n",
    "df['månad'] = df['månad']+'-01'\n",
    "df['månad'] = pd.to_datetime(df['månad'])\n",
    "\n",
    "#Filtrera df till datum från 2015-01-01\n",
    "df = df[df['månad'] >= '2015-01-01']\n",
    "\n",
    "df.head()"
   ]
  },
  {
   "cell_type": "markdown",
   "id": "86355d8a-259d-43df-912a-26af80af0a9c",
   "metadata": {},
   "source": [
    "## Skapa Dash app och visualisera"
   ]
  },
  {
   "cell_type": "markdown",
   "id": "21038417-7c29-4ecf-84a2-521a39e1ebf4",
   "metadata": {},
   "source": [
    "### Skapa Dash App"
   ]
  },
  {
   "cell_type": "code",
   "execution_count": 6,
   "id": "1ce74779-e6e9-4cf4-980a-ad4ff2c640cd",
   "metadata": {},
   "outputs": [],
   "source": [
    "#Importera Plotly och Dash\n",
    "import plotly.express as px\n",
    "import plotly.graph_objects as go\n",
    "from dash import Dash, dcc, html, Input, Output\n",
    "import plotly.io as pio"
   ]
  },
  {
   "cell_type": "code",
   "execution_count": 7,
   "id": "93376820-5c9b-439d-8cbd-3af6889812c4",
   "metadata": {},
   "outputs": [],
   "source": [
    "#Skapa drop-down lista\n",
    "kommuner = [{'label': kommun, 'value': kommun} for kommun in df['kommun'].unique()]"
   ]
  },
  {
   "cell_type": "code",
   "execution_count": 32,
   "id": "e3b46d3c-fde0-4086-a7e9-205cf438efdb",
   "metadata": {},
   "outputs": [
    {
     "data": {
      "text/html": [
       "\n",
       "        <iframe\n",
       "            width=\"100%\"\n",
       "            height=\"650\"\n",
       "            src=\"http://127.0.0.1:8050/\"\n",
       "            frameborder=\"0\"\n",
       "            allowfullscreen\n",
       "            \n",
       "        ></iframe>\n",
       "        "
      ],
      "text/plain": [
       "<IPython.lib.display.IFrame at 0x2008c88aa50>"
      ]
     },
     "metadata": {},
     "output_type": "display_data"
    }
   ],
   "source": [
    "#Bygg app\n",
    "app = Dash(__name__)\n",
    "\n",
    "# Sätt Verdana som globalt typsnitt\n",
    "font_family_verdana = 'Verdana'\n",
    "\n",
    "app.layout = html.Div([\n",
    "    html.H2('Stockholms läns befolkningsutveckling', style={'font-family': font_family_verdana}),\n",
    "    html.Div(\n",
    "    children=[\n",
    "        html.P('Välj kommun:', style={'font-family': font_family_verdana}),\n",
    "        html.Div(\n",
    "            children=[\n",
    "                dcc.Dropdown(id='kommun_dd',\n",
    "                    # Sätt val som ska finnas i drop-down filter\n",
    "                    options=kommuner,\n",
    "                    value=\"Stockholms län\",\n",
    "                    clearable=False,\n",
    "                    style={'font-family': font_family_verdana}\n",
    "                    ),\n",
    "                ], style={'width': '50%', 'display': 'inline-block'}),\n",
    "        html.Div(\n",
    "            children=[\n",
    "                # Lägg till diagramkomponent\n",
    "                dcc.Graph(id='Graph'),\n",
    "                html.P('Källa: SCB', style={'font-family': font_family_verdana}),\n",
    "                html.P('En Dash app av Emanuel Raptis', style={'font-family': font_family_verdana, 'font-style': 'italic'})]),\n",
    "            ]),\n",
    "    ],\n",
    ")\n",
    "\n",
    "@app.callback(\n",
    "    # Sätt input and output för callback och länka dropdown till diagrammet\n",
    "    Output(component_id='Graph', component_property='figure'),\n",
    "    Input(component_id='kommun_dd', component_property='value')\n",
    ")\n",
    "\n",
    "#Skapa interaktivt plotly diagram\n",
    "def update_plot(input_kommun):\n",
    "    df_befolkning = df.copy(deep=True) #Skapa kopia av dataframe\n",
    "    if input_kommun:\n",
    "        kommun = input_kommun\n",
    "        df_befolkning = df_befolkning[df_befolkning['kommun'] == input_kommun]\n",
    "    \n",
    "    #Skapa plotly diagram    \n",
    "    fig_folkmangd = px.line(df_befolkning,\n",
    "                            x=\"månad\", y=\"befolkning\",\n",
    "                            hover_name=\"kommun\",\n",
    "                            markers=True,\n",
    "                            title=f'Folkmängd per månad i {input_kommun}')  #Inkludera vald kommun i rubrik\n",
    "\n",
    "    #Lägg till knappar för att styra x-axeln\n",
    "    fig_folkmangd.update_xaxes(\n",
    "        rangeslider_visible=False,\n",
    "        rangeselector=dict(\n",
    "            buttons=list([\n",
    "                dict(count=2, label=\"Innevarande år\", step=\"year\", stepmode=\"todate\"),\n",
    "                dict(count=3, label=\"3 år\", step=\"year\", stepmode=\"backward\"),\n",
    "                dict(count=5, label=\"5 år\", step=\"year\", stepmode=\"backward\"),\n",
    "                dict(step=\"all\", label=\"Hela perioden\")\n",
    "            ])\n",
    "        )\n",
    "    )\n",
    "\n",
    "    #Uppdatera diagrammets utseende\n",
    "    fig_folkmangd.update_layout(xaxis_title=\"Månad\",\n",
    "                                yaxis_title=\"Folkmängd\",\n",
    "                                template=\"plotly_white\",\n",
    "                                font_family=font_family_verdana)\n",
    "    \n",
    "    fig_folkmangd.update_traces(hovertemplate='<b>%{hovertext}</b><br>Månad: %{x}<br>Folkmängd: %{y: .0f}')\n",
    "    \n",
    "    return fig_folkmangd\n",
    "\n",
    "#Kör appen\n",
    "if __name__ == '__main__':\n",
    "    app.run_server(debug=False, use_reloader=False)"
   ]
  },
  {
   "cell_type": "code",
   "execution_count": null,
   "id": "ed1dfcd9-8710-4494-a6b5-22a62732f75a",
   "metadata": {},
   "outputs": [],
   "source": []
  }
 ],
 "metadata": {
  "kernelspec": {
   "display_name": "Python 3 (ipykernel)",
   "language": "python",
   "name": "python3"
  },
  "language_info": {
   "codemirror_mode": {
    "name": "ipython",
    "version": 3
   },
   "file_extension": ".py",
   "mimetype": "text/x-python",
   "name": "python",
   "nbconvert_exporter": "python",
   "pygments_lexer": "ipython3",
   "version": "3.11.5"
  }
 },
 "nbformat": 4,
 "nbformat_minor": 5
}
